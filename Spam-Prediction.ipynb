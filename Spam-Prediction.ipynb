{
 "cells": [
  {
   "cell_type": "code",
   "execution_count": 1,
   "id": "f6e1bd3b",
   "metadata": {},
   "outputs": [],
   "source": [
    "import numpy as np\n",
    "import pandas as pd\n",
    "from sklearn.model_selection import train_test_split\n",
    "from sklearn.feature_extraction.text import TfidfVectorizer\n",
    "from sklearn.linear_model import LogisticRegression\n",
    "from sklearn.metrics import accuracy_score"
   ]
  },
  {
   "cell_type": "code",
   "execution_count": 2,
   "id": "2a52cb23",
   "metadata": {},
   "outputs": [],
   "source": [
    "raw_data = pd.read_csv('mail_data.csv')"
   ]
  },
  {
   "cell_type": "code",
   "execution_count": 3,
   "id": "ea3b9475",
   "metadata": {},
   "outputs": [
    {
     "data": {
      "text/html": [
       "<div>\n",
       "<style scoped>\n",
       "    .dataframe tbody tr th:only-of-type {\n",
       "        vertical-align: middle;\n",
       "    }\n",
       "\n",
       "    .dataframe tbody tr th {\n",
       "        vertical-align: top;\n",
       "    }\n",
       "\n",
       "    .dataframe thead th {\n",
       "        text-align: right;\n",
       "    }\n",
       "</style>\n",
       "<table border=\"1\" class=\"dataframe\">\n",
       "  <thead>\n",
       "    <tr style=\"text-align: right;\">\n",
       "      <th></th>\n",
       "      <th>Category</th>\n",
       "      <th>Message</th>\n",
       "    </tr>\n",
       "  </thead>\n",
       "  <tbody>\n",
       "    <tr>\n",
       "      <th>0</th>\n",
       "      <td>ham</td>\n",
       "      <td>Go until jurong point, crazy.. Available only ...</td>\n",
       "    </tr>\n",
       "    <tr>\n",
       "      <th>1</th>\n",
       "      <td>ham</td>\n",
       "      <td>Ok lar... Joking wif u oni...</td>\n",
       "    </tr>\n",
       "    <tr>\n",
       "      <th>2</th>\n",
       "      <td>spam</td>\n",
       "      <td>Free entry in 2 a wkly comp to win FA Cup fina...</td>\n",
       "    </tr>\n",
       "    <tr>\n",
       "      <th>3</th>\n",
       "      <td>ham</td>\n",
       "      <td>U dun say so early hor... U c already then say...</td>\n",
       "    </tr>\n",
       "    <tr>\n",
       "      <th>4</th>\n",
       "      <td>ham</td>\n",
       "      <td>Nah I don't think he goes to usf, he lives aro...</td>\n",
       "    </tr>\n",
       "    <tr>\n",
       "      <th>...</th>\n",
       "      <td>...</td>\n",
       "      <td>...</td>\n",
       "    </tr>\n",
       "    <tr>\n",
       "      <th>5567</th>\n",
       "      <td>spam</td>\n",
       "      <td>This is the 2nd time we have tried 2 contact u...</td>\n",
       "    </tr>\n",
       "    <tr>\n",
       "      <th>5568</th>\n",
       "      <td>ham</td>\n",
       "      <td>Will ü b going to esplanade fr home?</td>\n",
       "    </tr>\n",
       "    <tr>\n",
       "      <th>5569</th>\n",
       "      <td>ham</td>\n",
       "      <td>Pity, * was in mood for that. So...any other s...</td>\n",
       "    </tr>\n",
       "    <tr>\n",
       "      <th>5570</th>\n",
       "      <td>ham</td>\n",
       "      <td>The guy did some bitching but I acted like i'd...</td>\n",
       "    </tr>\n",
       "    <tr>\n",
       "      <th>5571</th>\n",
       "      <td>ham</td>\n",
       "      <td>Rofl. Its true to its name</td>\n",
       "    </tr>\n",
       "  </tbody>\n",
       "</table>\n",
       "<p>5572 rows × 2 columns</p>\n",
       "</div>"
      ],
      "text/plain": [
       "     Category                                            Message\n",
       "0         ham  Go until jurong point, crazy.. Available only ...\n",
       "1         ham                      Ok lar... Joking wif u oni...\n",
       "2        spam  Free entry in 2 a wkly comp to win FA Cup fina...\n",
       "3         ham  U dun say so early hor... U c already then say...\n",
       "4         ham  Nah I don't think he goes to usf, he lives aro...\n",
       "...       ...                                                ...\n",
       "5567     spam  This is the 2nd time we have tried 2 contact u...\n",
       "5568      ham               Will ü b going to esplanade fr home?\n",
       "5569      ham  Pity, * was in mood for that. So...any other s...\n",
       "5570      ham  The guy did some bitching but I acted like i'd...\n",
       "5571      ham                         Rofl. Its true to its name\n",
       "\n",
       "[5572 rows x 2 columns]"
      ]
     },
     "execution_count": 3,
     "metadata": {},
     "output_type": "execute_result"
    }
   ],
   "source": [
    "raw_data\n"
   ]
  },
  {
   "cell_type": "code",
   "execution_count": 4,
   "id": "b0db605c",
   "metadata": {},
   "outputs": [],
   "source": [
    "# convert all missing values with empty string\n",
    "mail_data = raw_data.where((pd.notnull(raw_data)),'')"
   ]
  },
  {
   "cell_type": "code",
   "execution_count": 5,
   "id": "33389e7f",
   "metadata": {},
   "outputs": [
    {
     "data": {
      "text/html": [
       "<div>\n",
       "<style scoped>\n",
       "    .dataframe tbody tr th:only-of-type {\n",
       "        vertical-align: middle;\n",
       "    }\n",
       "\n",
       "    .dataframe tbody tr th {\n",
       "        vertical-align: top;\n",
       "    }\n",
       "\n",
       "    .dataframe thead th {\n",
       "        text-align: right;\n",
       "    }\n",
       "</style>\n",
       "<table border=\"1\" class=\"dataframe\">\n",
       "  <thead>\n",
       "    <tr style=\"text-align: right;\">\n",
       "      <th></th>\n",
       "      <th>Category</th>\n",
       "      <th>Message</th>\n",
       "    </tr>\n",
       "  </thead>\n",
       "  <tbody>\n",
       "    <tr>\n",
       "      <th>0</th>\n",
       "      <td>ham</td>\n",
       "      <td>Go until jurong point, crazy.. Available only ...</td>\n",
       "    </tr>\n",
       "    <tr>\n",
       "      <th>1</th>\n",
       "      <td>ham</td>\n",
       "      <td>Ok lar... Joking wif u oni...</td>\n",
       "    </tr>\n",
       "    <tr>\n",
       "      <th>2</th>\n",
       "      <td>spam</td>\n",
       "      <td>Free entry in 2 a wkly comp to win FA Cup fina...</td>\n",
       "    </tr>\n",
       "    <tr>\n",
       "      <th>3</th>\n",
       "      <td>ham</td>\n",
       "      <td>U dun say so early hor... U c already then say...</td>\n",
       "    </tr>\n",
       "    <tr>\n",
       "      <th>4</th>\n",
       "      <td>ham</td>\n",
       "      <td>Nah I don't think he goes to usf, he lives aro...</td>\n",
       "    </tr>\n",
       "  </tbody>\n",
       "</table>\n",
       "</div>"
      ],
      "text/plain": [
       "  Category                                            Message\n",
       "0      ham  Go until jurong point, crazy.. Available only ...\n",
       "1      ham                      Ok lar... Joking wif u oni...\n",
       "2     spam  Free entry in 2 a wkly comp to win FA Cup fina...\n",
       "3      ham  U dun say so early hor... U c already then say...\n",
       "4      ham  Nah I don't think he goes to usf, he lives aro..."
      ]
     },
     "execution_count": 5,
     "metadata": {},
     "output_type": "execute_result"
    }
   ],
   "source": [
    "mail_data.head(5)"
   ]
  },
  {
   "cell_type": "code",
   "execution_count": 6,
   "id": "411cce15",
   "metadata": {},
   "outputs": [
    {
     "data": {
      "text/plain": [
       "(5572, 2)"
      ]
     },
     "execution_count": 6,
     "metadata": {},
     "output_type": "execute_result"
    }
   ],
   "source": [
    "#   cheackinf number of row x col\n",
    "mail_data.shape"
   ]
  },
  {
   "cell_type": "code",
   "execution_count": 7,
   "id": "9aaadf78",
   "metadata": {},
   "outputs": [],
   "source": [
    "## Making spam to 0 and ham as 1\n",
    "mail_data.loc[mail_data['Category'] == 'spam', 'Category'] = 0\n",
    "mail_data.loc[mail_data['Category'] == 'ham', 'Category'] = 1"
   ]
  },
  {
   "cell_type": "code",
   "execution_count": 8,
   "id": "21ee8aa7",
   "metadata": {},
   "outputs": [
    {
     "data": {
      "text/html": [
       "<div>\n",
       "<style scoped>\n",
       "    .dataframe tbody tr th:only-of-type {\n",
       "        vertical-align: middle;\n",
       "    }\n",
       "\n",
       "    .dataframe tbody tr th {\n",
       "        vertical-align: top;\n",
       "    }\n",
       "\n",
       "    .dataframe thead th {\n",
       "        text-align: right;\n",
       "    }\n",
       "</style>\n",
       "<table border=\"1\" class=\"dataframe\">\n",
       "  <thead>\n",
       "    <tr style=\"text-align: right;\">\n",
       "      <th></th>\n",
       "      <th>Category</th>\n",
       "      <th>Message</th>\n",
       "    </tr>\n",
       "  </thead>\n",
       "  <tbody>\n",
       "    <tr>\n",
       "      <th>0</th>\n",
       "      <td>1</td>\n",
       "      <td>Go until jurong point, crazy.. Available only ...</td>\n",
       "    </tr>\n",
       "    <tr>\n",
       "      <th>1</th>\n",
       "      <td>1</td>\n",
       "      <td>Ok lar... Joking wif u oni...</td>\n",
       "    </tr>\n",
       "    <tr>\n",
       "      <th>2</th>\n",
       "      <td>0</td>\n",
       "      <td>Free entry in 2 a wkly comp to win FA Cup fina...</td>\n",
       "    </tr>\n",
       "    <tr>\n",
       "      <th>3</th>\n",
       "      <td>1</td>\n",
       "      <td>U dun say so early hor... U c already then say...</td>\n",
       "    </tr>\n",
       "    <tr>\n",
       "      <th>4</th>\n",
       "      <td>1</td>\n",
       "      <td>Nah I don't think he goes to usf, he lives aro...</td>\n",
       "    </tr>\n",
       "  </tbody>\n",
       "</table>\n",
       "</div>"
      ],
      "text/plain": [
       "  Category                                            Message\n",
       "0        1  Go until jurong point, crazy.. Available only ...\n",
       "1        1                      Ok lar... Joking wif u oni...\n",
       "2        0  Free entry in 2 a wkly comp to win FA Cup fina...\n",
       "3        1  U dun say so early hor... U c already then say...\n",
       "4        1  Nah I don't think he goes to usf, he lives aro..."
      ]
     },
     "execution_count": 8,
     "metadata": {},
     "output_type": "execute_result"
    }
   ],
   "source": [
    "mail_data.head(5)"
   ]
  },
  {
   "cell_type": "code",
   "execution_count": 9,
   "id": "58986dd6",
   "metadata": {},
   "outputs": [],
   "source": [
    "# basically divide it into X and Y\n",
    "X = mail_data['Message']\n",
    "Y = mail_data['Category']\n"
   ]
  },
  {
   "cell_type": "code",
   "execution_count": 33,
   "id": "539d3c56",
   "metadata": {},
   "outputs": [],
   "source": [
    "# Spltting the data in traning and testing data\n",
    "x_train, x_test, y_train, y_test = train_test_split(X, Y, test_size=0.4, random_state=3)"
   ]
  },
  {
   "cell_type": "code",
   "execution_count": 34,
   "id": "71f6e605",
   "metadata": {},
   "outputs": [
    {
     "data": {
      "text/plain": [
       "(2229,)"
      ]
     },
     "execution_count": 34,
     "metadata": {},
     "output_type": "execute_result"
    }
   ],
   "source": [
    "x_test.shape"
   ]
  },
  {
   "cell_type": "code",
   "execution_count": 35,
   "id": "a5160fc8",
   "metadata": {},
   "outputs": [],
   "source": [
    "# Transform the text data to vectors of Logistic regression\n",
    "feature_extraction = TfidfVectorizer(min_df = 1, stop_words='english', lowercase='True')"
   ]
  },
  {
   "cell_type": "code",
   "execution_count": 36,
   "id": "18111e7a",
   "metadata": {},
   "outputs": [],
   "source": [
    "X_train_features = feature_extraction.fit_transform(x_train)\n",
    "X_test_features = feature_extraction.transform(x_test)"
   ]
  },
  {
   "cell_type": "code",
   "execution_count": 37,
   "id": "17ab6943",
   "metadata": {},
   "outputs": [],
   "source": [
    "# convert y test and y train to int\n",
    "Y_train = y_train.astype('int')\n",
    "Y_test = y_test.astype('int')"
   ]
  },
  {
   "cell_type": "code",
   "execution_count": 38,
   "id": "6852f957",
   "metadata": {},
   "outputs": [
    {
     "data": {
      "text/plain": [
       "3026    1\n",
       "3749    1\n",
       "4361    1\n",
       "1999    1\n",
       "455     0\n",
       "       ..\n",
       "789     0\n",
       "968     1\n",
       "1667    1\n",
       "3321    1\n",
       "1688    0\n",
       "Name: Category, Length: 3343, dtype: int32"
      ]
     },
     "execution_count": 38,
     "metadata": {},
     "output_type": "execute_result"
    }
   ],
   "source": [
    "Y_train"
   ]
  },
  {
   "cell_type": "code",
   "execution_count": 39,
   "id": "52831ae8",
   "metadata": {},
   "outputs": [
    {
     "name": "stdout",
     "output_type": "stream",
     "text": [
      "  (0, 5833)\t0.47301266759662697\n",
      "  (0, 3001)\t0.5930609208621515\n",
      "  (0, 1974)\t0.651565622511854\n",
      "  (1, 2606)\t0.28098328655723337\n",
      "  (1, 2405)\t0.27089961373415494\n",
      "  (1, 1339)\t0.18684991543758142\n",
      "  (1, 6135)\t0.2295860509768233\n",
      "  (1, 3369)\t0.14729557583426567\n",
      "  (1, 3359)\t0.1919885792961897\n",
      "  (1, 2755)\t0.4105804790733068\n",
      "  (1, 5175)\t0.28098328655723337\n",
      "  (1, 5516)\t0.2630781094434785\n",
      "  (1, 2021)\t0.23544153831792122\n",
      "  (1, 2874)\t0.28098328655723337\n",
      "  (1, 5113)\t0.21277632072528896\n",
      "  (1, 5872)\t0.40617436382169175\n",
      "  (1, 1104)\t0.20027434794604718\n",
      "  (2, 5135)\t0.35324635377667984\n",
      "  (2, 2886)\t0.35324635377667984\n",
      "  (2, 4755)\t0.30716571773325513\n",
      "  (2, 2115)\t0.35324635377667984\n",
      "  (2, 2217)\t0.35324635377667984\n",
      "  (2, 3164)\t0.1557079233579834\n",
      "  (2, 5923)\t0.21740192116360693\n",
      "  (2, 5083)\t0.47931761222359576\n",
      "  :\t:\n",
      "  (3340, 2669)\t0.3292178140178824\n",
      "  (3340, 3924)\t0.26907193452031153\n",
      "  (3341, 2094)\t0.3543816009282524\n",
      "  (3341, 6050)\t0.30859287299145854\n",
      "  (3341, 4007)\t0.31097601210364706\n",
      "  (3341, 1903)\t0.3604154200315822\n",
      "  (3341, 4799)\t0.3441015918504562\n",
      "  (3341, 3333)\t0.30859287299145854\n",
      "  (3341, 3799)\t0.2492985891526474\n",
      "  (3341, 5787)\t0.29444089523023653\n",
      "  (3341, 3289)\t0.3134754469584165\n",
      "  (3341, 5177)\t0.22951250923828667\n",
      "  (3341, 5872)\t0.1978767866797897\n",
      "  (3342, 546)\t0.2999855902881696\n",
      "  (3342, 5365)\t0.2999855902881696\n",
      "  (3342, 123)\t0.2892199800585811\n",
      "  (3342, 5362)\t0.2892199800585811\n",
      "  (3342, 6086)\t0.25136395020516605\n",
      "  (3342, 281)\t0.22216893337190646\n",
      "  (3342, 5124)\t0.2080498657507493\n",
      "  (3342, 6082)\t0.3686258070369828\n",
      "  (3342, 4915)\t0.16225386187359278\n",
      "  (3342, 5310)\t0.1752881607400144\n",
      "  (3342, 4727)\t0.4508501291328233\n",
      "  (3342, 2431)\t0.31731719290045063\n"
     ]
    }
   ],
   "source": [
    "print(X_train_features)"
   ]
  },
  {
   "cell_type": "code",
   "execution_count": 40,
   "id": "84f393fc",
   "metadata": {},
   "outputs": [
    {
     "name": "stdout",
     "output_type": "stream",
     "text": [
      "  (0, 6186)\t0.1908191940113333\n",
      "  (0, 5875)\t0.2022387220198144\n",
      "  (0, 4559)\t0.23606589604701453\n",
      "  (0, 4421)\t0.19904876897174445\n",
      "  (0, 3733)\t0.18203630172607957\n",
      "  (0, 1310)\t0.26465228204998065\n",
      "  (0, 1185)\t0.32219418292510915\n",
      "  (0, 1150)\t0.2536463502195762\n",
      "  (0, 925)\t0.2505841344316126\n",
      "  (0, 891)\t0.28016427173155534\n",
      "  (0, 341)\t0.23606589604701453\n",
      "  (0, 258)\t0.24510948626685214\n",
      "  (0, 16)\t0.30668219324353446\n",
      "  (0, 11)\t0.26915833990115084\n",
      "  (0, 6)\t0.28016427173155534\n",
      "  (0, 1)\t0.2322369757641426\n",
      "  (1, 6276)\t0.3009379550013267\n",
      "  (1, 5724)\t0.4307408633775453\n",
      "  (1, 5600)\t0.32791153064443523\n",
      "  (1, 5528)\t0.2655032512678621\n",
      "  (1, 5284)\t0.3676913466782936\n",
      "  (1, 4019)\t0.23184178320825352\n",
      "  (1, 3764)\t0.3511812313098286\n",
      "  (1, 2964)\t0.4833269198021534\n",
      "  (2, 6128)\t0.22002917039490233\n",
      "  :\t:\n",
      "  (2225, 1919)\t0.33902458241025546\n",
      "  (2225, 1647)\t0.4404397426231508\n",
      "  (2225, 288)\t0.3938867001833902\n",
      "  (2226, 5322)\t0.5393863553598005\n",
      "  (2226, 4207)\t0.5880598753264416\n",
      "  (2226, 2872)\t0.6027005414654286\n",
      "  (2227, 5862)\t0.27355458288189555\n",
      "  (2227, 5310)\t0.18522905126299438\n",
      "  (2227, 4915)\t0.17145555507983506\n",
      "  (2227, 4698)\t0.33303206242675143\n",
      "  (2227, 3911)\t0.2656192284844533\n",
      "  (2227, 3297)\t0.24197826555275018\n",
      "  (2227, 3199)\t0.31699828469340824\n",
      "  (2227, 2998)\t0.33303206242675143\n",
      "  (2227, 2179)\t0.31699828469340824\n",
      "  (2227, 2178)\t0.33303206242675143\n",
      "  (2227, 1779)\t0.2301108810703828\n",
      "  (2227, 1749)\t0.3056221383485818\n",
      "  (2227, 267)\t0.2286727530745071\n",
      "  (2228, 5811)\t0.38987042727346083\n",
      "  (2228, 5174)\t0.4359487907683914\n",
      "  (2228, 3258)\t0.4203038567668464\n",
      "  (2228, 2620)\t0.376203264733293\n",
      "  (2228, 2015)\t0.360558330731748\n",
      "  (2228, 1278)\t0.45799908678516815\n"
     ]
    }
   ],
   "source": [
    "print(X_test_features)"
   ]
  },
  {
   "cell_type": "code",
   "execution_count": 50,
   "id": "1134966f",
   "metadata": {},
   "outputs": [],
   "source": [
    "# Training the model\n",
    "\n",
    "model = LogisticRegression(solver='liblinear', penalty='l1')"
   ]
  },
  {
   "cell_type": "code",
   "execution_count": 51,
   "id": "e916a6d5",
   "metadata": {},
   "outputs": [
    {
     "data": {
      "text/plain": [
       "LogisticRegression(penalty='l1', solver='liblinear')"
      ]
     },
     "execution_count": 51,
     "metadata": {},
     "output_type": "execute_result"
    }
   ],
   "source": [
    "# Triang the logistic regression model using data\n",
    "model.fit(X_train_features, Y_train)"
   ]
  },
  {
   "cell_type": "code",
   "execution_count": 52,
   "id": "09938a7f",
   "metadata": {},
   "outputs": [],
   "source": [
    "# Evaluating the model\n",
    "prediction_training_data = model.predict(X_train_features)\n"
   ]
  },
  {
   "cell_type": "code",
   "execution_count": 53,
   "id": "7cddeda6",
   "metadata": {},
   "outputs": [
    {
     "name": "stdout",
     "output_type": "stream",
     "text": [
      "[1 1 1 ... 1 1 0]\n"
     ]
    }
   ],
   "source": [
    "print(prediction_training_data)"
   ]
  },
  {
   "cell_type": "code",
   "execution_count": 54,
   "id": "a497dddc",
   "metadata": {},
   "outputs": [],
   "source": [
    "accuracy_training_data = accuracy_score(Y_train, prediction_training_data)"
   ]
  },
  {
   "cell_type": "code",
   "execution_count": 55,
   "id": "227637b4",
   "metadata": {},
   "outputs": [
    {
     "name": "stdout",
     "output_type": "stream",
     "text": [
      "Accuracy on training data:  0.9611127729584206\n"
     ]
    }
   ],
   "source": [
    "print('Accuracy on training data: ', accuracy_training_data)"
   ]
  },
  {
   "cell_type": "code",
   "execution_count": 56,
   "id": "d267a777",
   "metadata": {},
   "outputs": [
    {
     "name": "stdout",
     "output_type": "stream",
     "text": [
      "[0 1 1 ... 1 1 1]\n",
      "0.9533423059668013\n"
     ]
    }
   ],
   "source": [
    "predicting_testing_data = model.predict(X_test_features)\n",
    "print(predicting_testing_data)\n",
    "\n",
    "accuracy_test_data = accuracy_score(Y_test, predicting_testing_data)\n",
    "print(accuracy_test_data)"
   ]
  },
  {
   "cell_type": "code",
   "execution_count": 67,
   "id": "27b4460d",
   "metadata": {},
   "outputs": [
    {
     "name": "stdout",
     "output_type": "stream",
     "text": [
      "[0]\n"
     ]
    }
   ],
   "source": [
    "\n",
    "inputval = [\"flat 50% .This is to inform you you win a lottery of 1000000 rs and we would like you to know how you an retrieve your prize\"]\n",
    "input_data = feature_extraction.transform(inputval)\n",
    "\n",
    "prediction = model.predict(input_data)\n",
    "print(prediction)"
   ]
  },
  {
   "cell_type": "code",
   "execution_count": 65,
   "id": "a39a1bfa",
   "metadata": {},
   "outputs": [
    {
     "name": "stdout",
     "output_type": "stream",
     "text": [
      "Member ID 197696522 : Celebrate with the brightest offers on latest tech\n"
     ]
    }
   ],
   "source": [
    "val = input()"
   ]
  },
  {
   "cell_type": "code",
   "execution_count": 66,
   "id": "42ad1949",
   "metadata": {},
   "outputs": [
    {
     "name": "stdout",
     "output_type": "stream",
     "text": [
      "Ham\n"
     ]
    }
   ],
   "source": [
    "li = []\n",
    "li.append(val)\n",
    "input_data = feature_extraction.transform(li)\n",
    "\n",
    "def prediction(x):\n",
    "    if x == 0:\n",
    "        print(\"Spam\")\n",
    "    else:\n",
    "        print(\"Ham\")\n",
    "        \n",
    "pre = model.predict(input_data)\n",
    "prediction(pre)"
   ]
  },
  {
   "cell_type": "code",
   "execution_count": null,
   "id": "e773e7b8",
   "metadata": {},
   "outputs": [],
   "source": []
  }
 ],
 "metadata": {
  "kernelspec": {
   "display_name": "Python 3 (ipykernel)",
   "language": "python",
   "name": "python3"
  },
  "language_info": {
   "codemirror_mode": {
    "name": "ipython",
    "version": 3
   },
   "file_extension": ".py",
   "mimetype": "text/x-python",
   "name": "python",
   "nbconvert_exporter": "python",
   "pygments_lexer": "ipython3",
   "version": "3.10.2"
  }
 },
 "nbformat": 4,
 "nbformat_minor": 5
}
